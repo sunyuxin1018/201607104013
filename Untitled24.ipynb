{
 "cells": [
  {
   "cell_type": "code",
   "execution_count": 14,
   "metadata": {},
   "outputs": [
    {
     "name": "stderr",
     "output_type": "stream",
     "text": [
      "Getting uuid of QR code.\n",
      "Downloading QR code.\n",
      "Please scan the QR code to log in.\n",
      "Please press confirm on your phone.\n",
      "LOG OUT!\n",
      "Loading the contact, this may take a little while.\n",
      "Login successfully as 孙育新\n"
     ]
    },
    {
     "name": "stdout",
     "output_type": "stream",
     "text": [
      "[<Friend: 孙育新>, <Friend: 漫宇哥哥>, <Friend: 17统计一班  陈帅>, <Friend: 爸爸>, <Friend: 妈妈>, <Friend: 刘玮>, <Friend: Agatha.>, <Friend: ALING👾℃°>, <Friend: 爸爸>, <Friend: 王琳博>, <Friend: 琦飞化妆品>, <Friend: A華麗的沉默（在线）>, <Friend: 刘昱璞>, <Friend: 孙龙>, <Friend: 孙广琴>, <Friend: 木木>, <Friend: 创一电商>, <Friend: 木子>, <Friend: 衫国演义>, <Friend: 老舅>, <Friend: 吴思阳>, <Friend: 张诗童>, <Friend: A_Da鹏 潮牌专用🤘🏿>, <Friend: 小旋风>, <Friend: 孙悦学>, <Friend: AA👑柏尚魅俪®金牌丹丹2店👙>, <Friend: 胡小敏>, <Friend: 小医妈妈>, <Friend: 徐诗颖>, <Friend: 徐健健>, <Friend: 汇沙绘爱～沙画 沙瓶画2>, <Friend: 代购的小妮子>, <Friend: 更好的你>, <Friend: 马永胜 16数学>, <Friend: 焦晨旭>, <Friend: 美兴，报货号，对帐号>, <Friend: 赵新璐>, <Friend: TIAN STUDIO>, <Friend: 大米🍃>, <Friend: AA 木子家 (九号店) 招代理>, <Friend: 韩sir's Beauty Studio🔮>, <Friend: 杨岚阔>, <Friend: 孟乐 ᠮᠧᠩ ᠯᠧ>, <Friend: 建辉>, <Friend: 姚伟月>, <Friend: 马老师>, <Friend: 刘圣坤>, <Friend: 芯>, <Friend: 单宏超(哈尔滨出租车司机)>, <Friend: 彭彦茹>, <Friend: 康立英>, <Friend: 邢宏敏>, <Friend: show飒>, <Friend: 郝春浩>, <Friend: 孙盛世>, <Friend: 黄明月>, <Friend: 崔志夫>, <Friend: 拉图>, <Friend: 孙悦福>, <Friend: 移动>, <Friend: hh可可🌸>, <Friend: 15统计崔志夫>, <Friend: 宝川>, <Friend: 聚英联盟创始🔥小艳>, <Friend: 咸咸的海风>, <Friend: 化学 杨柳>, <Friend: 孙海玲>, <Friend: 化妆品>, <Friend: 杨轩>, <Friend: 孙悦>, <Friend: 吕梦萱>, <Friend: 潘昭刚>, <Friend: 张娇娇>, <Friend: 刘钰>, <Friend: 且行且珍惜！！！>, <Friend: 郭晓迪>, <Friend: 中政天王咨询师~王艳芬13314761271>, <Friend: 王亚新>, <Friend: 林洪燕>, <Friend: 米线>, <Friend: 大嫂子>, <Friend: 于嵩阳>, <Friend: <span class=\"emoji emoji2747\"></span>大伟 <span class=\"emoji emoji1f339\"></span>>, <Friend: A.雨晴4号店~不听语音>, <Friend: 宛如清风>, <Friend: 鞠新拓>, <Friend: 赵永祥>, <Friend: 麦>, <Friend: 徐州美丽姐服装4号店>, <Friend: 小样贼叼>, <Friend: 魏建忠>, <Friend: 王晓萌>, <Friend: 张颖喆＋数学教育>, <Friend: 吴东>, <Friend: Oin    欧韩工作室>, <Friend: 旺香婷海燕>, <Friend: 孙浩>, <Friend: 我只对自己好>, <Friend: 💓 Free and easy💓>, <Friend: 七哥哥（二号店）>, <Friend: 王欣阳>, <Friend: 曹阳>, <Friend: 张炳娜. 数学教育>, <Friend: 赵新达>, <Friend: 大姑>, <Friend: 芯琳1号店：快手号xiaowu3333999>, <Friend: 安欣>, <Friend: ^_^燕^_^>, <Friend: 常志敏>, <Friend: 邢正如>, <Friend: 英语老师>, <Friend: 范晓杰>, <Friend: 美食广场佳品惠超市客服>, <Friend: 孙丽华>, <Friend: 杜宣德>, <Friend: 拉拉老师>, <Friend: 麻辣拌>, <Friend: 徐敏>, <Friend: 格调👗莉莉搭配V4>, <Friend: L、>, <Friend: 朱鸿飞>, <Friend: 冬去春来>, <Friend: 田玉霞老师>, <Friend: 杜晓峰>, <Friend: 王璐瑶>, <Friend: 石磊>, <Friend: 哇哇>, <Friend: 江宁>, <Friend: 乌茶邦>, <Friend: 朱晓燕  数教>, <Friend: 梁世鹏>, <Friend: 胡旺>, <Friend: 秦昊>, <Friend: 付贵>, <Friend: 東哥的店（回复慢请见谅）>, <Friend: 卜浩浩>, <Friend: AAA  极渡形象设计室  13948093913>, <Friend: U盘>, <Friend: 杨海艳>, <Friend: 周轩扬>, <Friend: 茉莉花开>, <Friend: 郑波应用统计一班15391102312>, <Friend: 迟金明>, <Friend: 你是我的十二>, <Friend: 陶画缘泥人定制客服>, <Friend: 高成浩>, <Friend: 旺香婷二道街店田甜>, <Friend: 贺娜>, <Friend: 静>, <Friend: 晨睿洁客服9部>, <Friend: 52HZ>, <Friend: 王影605-15049543867>, <Friend: 魔鬼减脂训练营客服阿慧>, <Friend: 丛婷婷>, <Friend: 王思彤>, <Friend: 刘鸿博>, <Friend: 娄延松>, <Friend: A   Miss Li👗(二号微信)>, <Friend: 田甜>, <Friend: 大姨父>, <Friend: zuzu素颜霜>, <Friend: 杨美琪学姐>, <Friend: 👑EX❤GF👑>, <Friend: 代行强>, <Friend: 郭智强>, <Friend: 👊🏻>, <Friend: 张芮>, <Friend: 鲁艳凤>, <Friend: 创业小哥🕺>, <Friend: AYU STUDIO一号>, <Friend: 薄荷小局吗>, <Friend: 张玉杰>, <Friend: 啊👧🏻是豆浆姑娘～>, <Friend: 张龙宇>, <Friend: Ai呼大甜字格订餐电话18947559565>, <Friend: 你>, <Friend: 李圆媛>, <Friend: 首饰>, <Friend: 包国香>, <Friend: 郭志颖>, <Friend: 张佳彤>, <Friend: 霍雯雪>, <Friend: 移动2>, <Friend: Hello 348>, <Friend: 刘令文>, <Friend: 史娇娇>, <Friend: 梁云鹏>, <Friend: 榴莲🇰🇷教搭配>, <Friend: 常智慧>, <Friend: 高阳>, <Friend: 向日葵🌻>, <Friend: 张海涛  >, <Friend: 群聊\"甜字格（东湖墅园美食广场）A\"的.>, <Friend: AAA茹果化妆品燕子>, <Friend:  秦聪妮>, <Friend: 蕾蕾🎈>, <Friend: 张毅康>, <Friend: 牛妹儿<span class=\"emoji emoji1f47e\"></span>>, <Friend: ❤>, <Friend: 郭淑颖>, <Friend: 白告💋Y>, <Friend: 琦哥～>, <Friend: 祈欣悦音乐指导>, <Friend: 爆爆的小跟班>, <Friend: 刘绪哲>, <Friend: 爆爆的小跟班>, <Friend: A洋哥.zuzu.粉瑟.欧束>, <Friend: 刘静     605    15047647166>, <Friend: 你可爱帅气的弟弟>, <Friend: 李佳明>, <Friend: 转身   *Smile>, <Friend: 安歌>, <Friend: 布娃娃老师13154702219>, <Friend: 八九🌸>, <Friend: 王金红>, <Friend: 北葵向暖>, <Friend: 齐昕冉>, <Friend: 此号注销>, <Friend: 法芊⁽⁽ଘ崇峥ଓ⁾⁾>, <Friend: SUMMER 夏天🍋1号>, <Friend: 张子勉>, <Friend: 大朋友👦🏼>, <Friend: BINGYI💞 雪雪>, <Friend: AA法伯丽官方代理🌹 苗苗🌹>, <Friend: 狼真的来了>, <Friend: 徐亭亭>, <Friend: 一刻达快递代取>, <Friend: 韩志超>, <Friend: 师超越>, <Friend: 孤独*无名指>, <Friend: 宗亚楠      数学教育>, <Friend: 黄鹤显>, <Friend: 创新教育>, <Friend: 王宁>, <Friend: 杨浩>, <Friend: 李静怡>, <Friend: 娟娟＆瘦脸面膜正品店>, <Friend: 糖糖🍧女神饰界1号店(招代理)>, <Friend: 🌸 球球家1号店🌸>, <Friend: 孙亚鹏>, <Friend: 努力去做每件事>, <Friend: AAWK💋>, <Friend: 赵亚茹>, <Friend: 汪洋>, <Friend: 邢显昭>, <Friend: 图雅13245151516>, <Friend: 李晓庆>, <Friend: 17应统一班刘金超>, <Friend: 孙玉柱>, <Friend: A🔥【恋俏姿】联合董事小妍 主号>, <Friend: 宋双双>, <Friend: 😈>, <Friend: 建工唐震>, <Friend: 侯海捷>, <Friend: Ai赵新璐>, <Friend: 俏佳人美妆小铺赵书晨>, <Friend: 鞠伟佳>, <Friend: 冯小敏~>, <Friend: OUSHU>, <Friend: 石琦>, <Friend: 邹存那>, <Friend: MM>, <Friend: AA 鵬弟儿 品质🏀 潮牌>, <Friend: 姜娜>, <Friend: 王小方老师>, <Friend: 董妍>, <Friend: 包雪松>, <Friend: 吉米·卡罗琳团队客服8696>, <Friend: 今晚忘了做作业>, <Friend: 房东阿姨>, <Friend: 马玉秋>, <Friend: 杨昊天>, <Friend: 于芳冰>, <Friend: 袁婷>, <Friend: 贵君（运动营养品终端供应链）>, <Friend: 00>, <Friend: 吕莉统计二班>, <Friend: 黄连荣>, <Friend: 美娇姐>, <Friend: 🙊>, <Friend: 范安荣>, <Friend: 腻味.>, <Friend: 春宇>, <Friend: 安冉>, <Friend: 小宁宁🐳>, <Friend: 嘴角上扬@>, <Friend: 赵红敏   15124953353>, <Friend: 薛皓>, <Friend: Fairy°好菇凉💋>, <Friend: 汀汀ღ1店｜本人回复>, <Friend: 李博颖>, <Friend: 莹莹>, <Friend: 孙素梅>, <Friend: 孙鹏>, <Friend: 孙珍珍>, <Friend: 孙喜亮>, <Friend: 华硕>, <Friend: 小棋家>, <Friend: 王新禹>, <Friend: 张钰琪>, <Friend: 数学与应用数学――乌苏>, <Friend: 申建国>, <Friend: 饰品店>, <Friend: 然>, <Friend: 常盼盼>, <Friend: 韩源 学习  18547005931>, <Friend: 王晓鹏>, <Friend: 王军领>, <Friend: 17应数张旭>, <Friend: 生活部赵娇15847735030>, <Friend: 李秉哲>, <Friend: 17级欧其日拉 数学系 应数蒙班>, <Friend: 娜么美👗 3号店，支持花呗>, <Friend: 吕智红>, <Friend: 小瓶子🍓（休息中  秋冬在见咯）>, <Friend: 帅老板<span class=\"emoji emoji1f4b0\"></span>🍍🍍🍍>, <Friend: 史健>, <Friend: 邵岩>, <Friend: 陈笑迎>, <Friend: 叶芸>, <Friend: 旋佳琪>, <Friend: 老弟～>, <Friend: 王琪>, <Friend: 陈鑫>, <Friend: 2016，>, <Friend: 白璐>, <Friend: 侯文涵>, <Friend: 17 应数 王鑫>, <Friend: 王德振>, <Friend: 孙怡>, <Friend: 牛彦凯>, <Friend: EmmaMiaozi>, <Friend: 李文慧>, <Friend: 王科然>, <Friend: 姜亚飞>, <Friend: 李佳瑞>, <Friend: 王猛>, <Friend: 石登辉>, <Friend: 艾米--自然旋律护肤导师>, <Friend: 医采璐璐2⃣号店【免费培养网红】>, <Friend: 姜帅>, <Friend: 健健ོિ>, <Friend: 焦宗洋>, <Friend: 张志敏>, <Friend: 刘梦冉>, <Friend: 于天奇>, <Friend: 劉慧>, <Friend: 丽敏>, <Friend: 籍旭>, <Friend: <span class=\"emoji emoji1f48e\"></span>罂粟<span class=\"emoji emoji1f448\"></span><span class=\"emoji emoji1f448\"></span>>, <Friend: 阿微>, <Friend: 杨东云>, <Friend: 2班张晨照>, <Friend: 郭慧敏>, <Friend: 石盈鑫>, <Friend: 张奥迪>, <Friend: liumeiSHAN.>, <Friend: 嗯.>, <Friend: 张尧>, <Friend: 李颖超>, <Friend: 付光华应統一班13384752023>, <Friend: 赵昀>, <Friend: 张舒>, <Friend: 社团部 徐浩然 15391104890>, <Friend: 张丽芳>, <Friend: 王昌荣>, <Friend: 陈颖>, <Friend: 李东生>, <Friend: 葛秀敏>, <Friend: 数风流人物还看今朝>, <Friend: 金新华>, <Friend: 贺婧>, <Friend: 水果超市>, <Friend: 李文浩>, <Friend: 是你的汀汀>, <Friend: 刘琳>, <Friend: 孙超>, <Friend: 简单>, <Friend: 林雨新>, <Friend: 张欣欣>, <Friend: 刘娟>, <Friend: 华汇c042嘿店>, <Friend: 李颖>, <Friend: 田成>, <Friend: 汪祺>, <Friend: 白淑霞>, <Friend: 17级其力格尔>, <Friend: 17应统二班付立琼18047085249>, <Friend: 橘子味的刺猬>, <Friend: 王华峰>, <Friend: 悦悦ѕнσρ¹🦌（本人回复）>, <Friend: 18级信息一班李琦鑫>, <Friend: 趙娅妮_>, <Friend: 赵可.🎀>, <Friend: 郝铭>, <Friend: 郎亚萍>, <Friend: 雅楠💜 ღ>, <Friend: H🎈>, <Friend: 名爵健身>, <Friend: 田梦颖>, <Friend: 季丽华>, <Friend: 水果茶>, <Friend: 宋添祎>, <Friend: 倪斯楠>, <Friend: 康广月>, <Friend: 张丹妮>, <Friend: 张浩>, <Friend: Glassy Sky.>, <Friend: 于鸿麒>, <Friend: 截图全5星+会员名发给我>, <Friend: 刘丽丽>, <Friend: 张帅>, <Friend: 段连贺>, <Friend: 十月 (在线-）>, <Friend: 于月>, <Friend: 谢晓曼>, <Friend: 鞠新利>, <Friend: 许瑞应数一班>, <Friend: 🐾 卑微小张>, <Friend: 乌仁塔娜>, <Friend: 杨春泽>, <Friend: 贾琼>, <Friend: 常宇，应数2班>, <Friend: 曹丽媛>, <Friend: 刘小多>, <Friend: 孙佳宜>, <Friend: 鞠伟楠>, <Friend: 健身>, <Friend: 大姐姐>, <Friend: 杨旭 17648272494>, <Friend: 刘文旭>, <Friend: 余明玉>, <Friend: 李耀祖>, <Friend: 王琳博>, <Friend: 杨倩文>, <Friend: 首饰>, <Friend: A小胖>, <Friend: 伊敏>, <Friend: 王晓雨>, <Friend: 张天一>, <Friend: 朱慧>, <Friend: 张猛>, <Friend: 刘聪>, <Friend: 郝建成>, <Friend: 17级赵方>, <Friend: 陈少祖>, <Friend: 张佳宁>, <Friend: 加新18843290610>, <Friend: 七瓣雪～小雪（非24小时在线）>, <Friend: 应数数朱赛男>, <Friend: 天浩哥哥>, <Friend: 侯丽娇+数学教育>, <Friend: 刘玮>, <Friend: 沈亚旭>, <Friend: 应数2班金易涵>, <Friend: 姜蕊>, <Friend: 李天文>, <Friend: 孙悦>, <Friend: 开心每一天>, <Friend: 腻.>, <Friend: 💋面条®8号  鲸彩生活 内排抢占期>, <Friend: 梁悦悦>, <Friend: 如梦奇遇手工 本本>, <Friend: 学习部 张泽峰 13847078746>, <Friend: 18信息一班      颜旭>, <Friend: 赤>, <Friend: 医采天骄总代🌹云林【招代理】>, <Friend: 医采光速战队总代-灰灰>, <Friend: 秦敬怡>, <Friend: 喻宏影>, <Friend: 17级应数蒙班，堂何斯>, <Friend: 莲花>, <Friend: 刘含信息二班>, <Friend: 李馨晔>, <Friend: 兽大大>, <Friend: no>, <Friend: A_🍑>, <Friend: 王大鹏>, <Friend: ZYH化妆师🌻张三金>, <Friend: L🍓>, <Friend: 张颖>, <Friend: 张雅倩>, <Friend: 小可爱>, <Friend: 赵燕琳>, <Friend: 亚宁🤔>, <Friend: 阿艳>, <Friend: 雁回>, <Friend: 辛兵>, <Friend: 赵文洋>, <Friend: 丁亚娟 17级 数学教育>, <Friend: 温守杰>, <Friend: 侯立颖>, <Friend: 王珠拉>, <Friend: Reine>, <Friend: 徐慧乔>, <Friend: A月月工作室1⃣店🔥（KTL遮暇）>, <Friend: 社团部，陈胜楠15391105639>, <Friend: 忻林慧>, <Friend: 宏达>]\n"
     ]
    },
    {
     "data": {
      "text/plain": [
       "↪ 漫宇哥哥 : (Picture)"
      ]
     },
     "execution_count": 14,
     "metadata": {},
     "output_type": "execute_result"
    }
   ],
   "source": [
    "from wxpy import *\n",
    "bot =Bot()\n",
    "my_friend = bot.friends()\n",
    "print(my_friend)\n",
    "my_friend = bot.friends().search('漫宇哥哥')[0]\n",
    "my_friend.send('Hello Wechat!')\n",
    "my_friend.send_image('baobao.jpg')"
   ]
  },
  {
   "cell_type": "code",
   "execution_count": 15,
   "metadata": {},
   "outputs": [],
   "source": [
    "@bot.register()\n",
    "def print_others(msg):\n",
    "    print(msg)"
   ]
  },
  {
   "cell_type": "code",
   "execution_count": 17,
   "metadata": {},
   "outputs": [
    {
     "name": "stdout",
     "output_type": "stream",
     "text": [
      "【2】趣步交流群 › 小馒头 : 打开了，第一次显示3560第二次就是这样了 (Text)\n",
      "【2】趣步交流群 › 者有生~趣步二星达人 : 哦！没事！今天系统升级呢！等会再打开看！就行了 (Text)\n",
      "【2】趣步交流群 › 者有生~趣步二星达人 : 换Logo呢 (Text)\n",
      "【2】趣步交流群 › 小馒头 : 哦哦，只要没事就行 (Text)\n",
      "【2】趣步交流群 › 者有生~趣步二星达人 : @小馒头 嗯！好好推广 (Text)\n",
      "【2】趣步交流群 › 者有生~趣步二星达人 : (Video)\n",
      "【2】趣步交流群 › 者有生~趣步二星达人 : (Video)\n",
      "【2】趣步交流群 › 者有生~趣步二星达人 : 趣步4.1.1版本发布及跑鞋销售通告 ↩ 尊敬的趣步用户： ↩         经过全力以赴、夜以继日的研发，趣步4.1.1版本（商圈版）今天发布上线，开始线上测试工作。 ↩ 新版本特性： ↩ 一、增加商圈推广员功能 ↩       所有趣步用户皆可申请成为商圈推广员，获取自己的商圈推广码，对接线下实体商家入驻，享受商家糖果兑换或赠送部分的手续费分润。 ↩ 二、增加商家入驻功能 ↩       1、线下实体商家，可凭有效资质（具体详情请查看官网商家入驻协议）申请入驻趣步商圈，分享粉丝经济效应。商家入驻成功后，可酌情提供少量商品接受糖果兑换，同时亦可通过在店铺消费奖励用户糖果的方式来进行促销引流。此举为商家自愿自发行为，趣步平台不做任何强制要求。 ↩       2、4.1.1版本上线之后，暂时只审核通过少数商家入驻，进行前期流程、性能及压力等方面的测试。测试期间，商家等级及商家上传商品数量会有所限制。同时，在推广前期，暂不收取商家的交易保证金及平台技术服务费，仅质押50枚糖果/户商家。收取时间，另行通知。 ↩       3、商家通过入驻申请，上传完商品后，暂时由当地城市合伙人负责对商品的图片，内容，进行审核上架，城市合伙人应秉承公平公正的原则，依据《趣步商圈入驻审核流程》进行审核，认真负责，不偏不倚。 ↩       4、城市合伙人不得故意刁难、拖延审核，亦不得利用城市广告位宣传自己或别人的商家推广码，如发现城市合伙人利用商家审核权力以权谋私的行为，直接终止合伙人资格。 ↩       5、商家后台：http://shopadmin.51qub.com ↩       6、城市合伙人后台：http://cityagentadmin.51qub.com/login ↩ 三、优化卷轴显示 ↩       新的4.1.1版趣步APP，优化了卷轴显示详情，增强用户交互体验。 ↩ 四、修正已知Bug，并预设商圈后续进一步开发的部分基础模块。 ↩       4.1.1版本，注定将成为趣步发展的里程碑。承载着期望，下载及服务器压力均较大，请多包容。与此同时，也期待收到所有用户通过客服反馈中心给我们忠诚的建议。 ↩ 五、腾出空，趣运动，走路都带风。我们战略合作品牌——酷拉锐（KOOLARA），与趣步共同精制的专业马拉松跑鞋，将于2019年08月09日上午10:00上线抢购，请更新至4.1.1版本后自行购买。 ↩  ↩ 趣步科技 ↩ 2019年08月08日 (Text)\n",
      "桃子影院 : 沙雕丧气大叔，中年版《我是大哥大》来了！！ (Sharing)\n",
      "芭蕉影院 : 尺度惊呆众人，这部9.1分的反主流神作爽飞了 (Sharing)\n",
      "竹林影院 : 十级段位绿茶在线出轨，结局简直让她怀疑人生 (Sharing)\n",
      "【2】趣步交流群 › 者有生~趣步二星达人 : [玫瑰]通知[玫瑰] ↩  ↩ 腾出空，趣运动，走路都带风。我们战略合作品牌——酷拉锐（KOOLARA），与趣步共同精制的专业马拉松跑鞋，将于2019年08月09日上午10:00上线抢购，请更新至4.1.1版本后自行购买。 ↩  ↩                             趣步科技 (Text)\n"
     ]
    }
   ],
   "source": [
    "@bot.register(my_friend)\n",
    "def reply_my_friend(msg):\n",
    "    return '你好'.format(msg.text, msg.type)\n"
   ]
  },
  {
   "cell_type": "code",
   "execution_count": 21,
   "metadata": {},
   "outputs": [
    {
     "name": "stdout",
     "output_type": "stream",
     "text": [
      "男性好友: 36.14%\n",
      "女性好友: 56.02%\n",
      "其他: 7.83%\n"
     ]
    }
   ],
   "source": [
    "def get_friend_sex(friends):\n",
    "    male = female = other = 0\n",
    "    for i in friends[1:]:\n",
    "        sex = i.sex\n",
    "        if sex == 1:\n",
    "            male += 1\n",
    "        elif sex == 2:\n",
    "            female += 1\n",
    "        else:\n",
    "            other += 1\n",
    "    return male,female,other\n",
    "bot = Bot(cache_path=True)\n",
    "bot.file_helper.send('hello world!')\n",
    "friends = bot.friends()\n",
    "\n",
    "male,female,other = get_friend_sex(friends)\n",
    "total = len(friends[1:])\n",
    "print(\"男性好友: %.2f%%\" % (float(male)/total * 100))\n",
    "print(\"女性好友: %.2f%%\" % (float(female) / total * 100))\n",
    "print(\"其他: %.2f%%\" %(float(other) / total * 100))"
   ]
  },
  {
   "cell_type": "code",
   "execution_count": null,
   "metadata": {},
   "outputs": [],
   "source": []
  }
 ],
 "metadata": {
  "kernelspec": {
   "display_name": "Python 3",
   "language": "python",
   "name": "python3"
  },
  "language_info": {
   "codemirror_mode": {
    "name": "ipython",
    "version": 3
   },
   "file_extension": ".py",
   "mimetype": "text/x-python",
   "name": "python",
   "nbconvert_exporter": "python",
   "pygments_lexer": "ipython3",
   "version": "3.6.4"
  }
 },
 "nbformat": 4,
 "nbformat_minor": 2
}
