{
 "cells": [
  {
   "cell_type": "code",
   "execution_count": 1,
   "metadata": {},
   "outputs": [
    {
     "name": "stdout",
     "output_type": "stream",
     "text": [
      "请选择人机对战或多人对战！\n",
      "输入人机对战\n",
      "您的选择是 人机对战\n",
      "请选择英雄:典韦.赵云.鲁班\n",
      "输入赵云\n",
      "您选择的是 赵云\n",
      "赵云的战斗力为20000，防御力为2000\n",
      "您选择的人物已确定，现在为您随机成对战玩家\n",
      "您的对手为 赵云\n",
      "请输入开始\n",
      "输入开始\n",
      "输入正确，请稍等\n",
      "正在努力加载，请您耐心等待！\n"
     ]
    }
   ],
   "source": [
    "#1.王者荣耀\n",
    "import numpy as np\n",
    "class wangzhe(object):\n",
    "    def  __init__(self):\n",
    "        pass\n",
    "    def renji(self):\n",
    "        print(\"请选择人机对战或多人对战！\")\n",
    "        res = input(\"输入\")\n",
    "        print(\"您的选择是\",res)\n",
    "        self.res=res\n",
    "    def hero(self):\n",
    "        print(\"请选择英雄:典韦.赵云.鲁班\")\n",
    "        ren = input(\"输入\")\n",
    "        print(\"您选择的是\",ren)\n",
    "        self.ren=ren\n",
    "    def xianshizhandouli(self):\n",
    "        if self.ren==\"典韦\":\n",
    "            print(\"典韦的战斗力为10000，防御力为5000\")\n",
    "        elif self.ren==\"赵云\":\n",
    "            print(\"赵云的战斗力为20000，防御力为2000\")\n",
    "        else:\n",
    "            print(\"鲁班的战斗力为15000，防御力为3500\")\n",
    "    def  people(self):\n",
    "        print(\"您选择的人物已确定，现在为您随机成对战玩家\")\n",
    "        s = np.random.choice(['典韦','赵云','鲁班'])\n",
    "        print(\"您的对手为\",s)\n",
    "    def begin(self):\n",
    "        print(\"请输入开始\")\n",
    "        y=input(\"输入\")\n",
    "        if y == \"开始\":\n",
    "            print(\"输入正确，请稍等\")\n",
    "        else:\n",
    "            print(\"输入有误，请重新输入\")\n",
    "    def jiazai(self):\n",
    "        print(\"正在努力加载，请您耐心等待！\")\n",
    "syx = wangzhe()\n",
    "syx.renji()\n",
    "syx.hero()\n",
    "syx.xianshizhandouli()\n",
    "syx.people()\n",
    "syx.begin()\n",
    "syx.jiazai()\n"
   ]
  },
  {
   "cell_type": "code",
   "execution_count": 2,
   "metadata": {},
   "outputs": [
    {
     "name": "stdout",
     "output_type": "stream",
     "text": [
      "请输入一个整数：100\n",
      "\n",
      "1 5 12 22 35 51 70 92 117 145 \n",
      "176 210 247 287 330 376 425 477 532 590 \n",
      "651 715 782 852 925 1001 1080 1162 1247 1335 \n",
      "1426 1520 1617 1717 1820 1926 2035 2147 2262 2380 \n",
      "2501 2625 2752 2882 3015 3151 3290 3432 3577 3725 \n",
      "3876 4030 4187 4347 4510 4676 4845 5017 5192 5370 \n",
      "5551 5735 5922 6112 6305 6501 6700 6902 7107 7315 \n",
      "7526 7740 7957 8177 8400 8626 8855 9087 9322 9560 \n",
      "9801 10045 10292 10542 10795 11051 11310 11572 11837 12105 \n",
      "12376 12650 12927 13207 13490 13776 14065 14357 14652 "
     ]
    }
   ],
   "source": [
    "#2.五角数\n",
    "def getPentagonalNumber(n):\n",
    "    a=0\n",
    "    c=0\n",
    "    for i in range(1,n,1):\n",
    "        a=int(i*(3*i-1)/2)\n",
    "        if c%10==0:\n",
    "            print()\n",
    "        print(a,end=\" \")\n",
    "        c+=1\n",
    "n=int(input(\"请输入一个整数：\"))\n",
    "getPentagonalNumber(n)"
   ]
  },
  {
   "cell_type": "code",
   "execution_count": 3,
   "metadata": {},
   "outputs": [
    {
     "name": "stdout",
     "output_type": "stream",
     "text": [
      "请输入一个数:521\n"
     ]
    },
    {
     "data": {
      "text/plain": [
       "8"
      ]
     },
     "execution_count": 3,
     "metadata": {},
     "output_type": "execute_result"
    }
   ],
   "source": [
    "#3.求一个整数各个数字的和\n",
    "def sumDigits(n):\n",
    "    g=n%10\n",
    "    s=n//10%10\n",
    "    b=n//100\n",
    "    sum=g+s+b\n",
    "    return sum\n",
    "n=int(input(\"请输入一个数:\"))\n",
    "sumDigits(n)"
   ]
  },
  {
   "cell_type": "code",
   "execution_count": 5,
   "metadata": {},
   "outputs": [
    {
     "name": "stdout",
     "output_type": "stream",
     "text": [
      "Enter three numbers:15,20,5\n"
     ]
    },
    {
     "data": {
      "text/plain": [
       "(5.0, 15.0, 20.0)"
      ]
     },
     "execution_count": 5,
     "metadata": {},
     "output_type": "execute_result"
    }
   ],
   "source": [
    "#4.对三个数排序\n",
    "def displaySortedNumbers(s,y,x):\n",
    "    if s>y:\n",
    "        s,y=y,s\n",
    "    if y>x:\n",
    "        y,x=x,y\n",
    "    if s>y:\n",
    "        s,y=y,s\n",
    "    return s,y,x\n",
    "s,y,x=map(float,input(\"Enter three numbers:\").split(','))\n",
    "displaySortedNumbers(s,y,x)\n"
   ]
  },
  {
   "cell_type": "code",
   "execution_count": 7,
   "metadata": {},
   "outputs": [
    {
     "name": "stdout",
     "output_type": "stream",
     "text": [
      "请输入坐标4 3 5 7\n"
     ]
    },
    {
     "data": {
      "text/plain": [
       "4.123105625617661"
      ]
     },
     "execution_count": 7,
     "metadata": {},
     "output_type": "execute_result"
    }
   ],
   "source": [
    "#8.两点之间距离\n",
    "import math\n",
    "def distance(x1,y1,x2,y2):\n",
    "    a=x2-x1\n",
    "    b=y2-y1\n",
    "    c=math.sqrt((a**2)+(b**2))\n",
    "    return c\n",
    "x1,y1,x2,y2=map(int,input(\"请输入坐标\").split())\n",
    "distance(x1,y1,x2,y2)    "
   ]
  },
  {
   "cell_type": "code",
   "execution_count": 8,
   "metadata": {},
   "outputs": [
    {
     "name": "stdout",
     "output_type": "stream",
     "text": [
      "本地日期及时间为： Wed Aug  7 16:35:04 2019\n"
     ]
    }
   ],
   "source": [
    "#10显示当前时间和日期\n",
    "import time\n",
    "localtime = time.asctime(time.localtime(time.time()))\n",
    "print(\"本地日期及时间为：\",localtime)"
   ]
  },
  {
   "cell_type": "code",
   "execution_count": 9,
   "metadata": {},
   "outputs": [
    {
     "name": "stdout",
     "output_type": "stream",
     "text": [
      "恭喜，你赢了！\n"
     ]
    }
   ],
   "source": [
    "#11掷骰子\n",
    "import random\n",
    "def zhishaizi():\n",
    "    a=random.choice([1,2,3,4,5,6])\n",
    "    b=random.choice([1,2,3,4,5,6])\n",
    "    if a+b==2 or a+b==3 or a+b==12:\n",
    "        print(\"抱歉，你输了！\")\n",
    "    elif a+b==7 or a+b==11:\n",
    "        print(\"恭喜，你赢了！\")\n",
    "    else:\n",
    "        c=random.choice([1,2,3,4,5,6])\n",
    "        d=random.choice([1,2,3,4,5,6])\n",
    "        if c+d==7:\n",
    "            print(\"抱歉！你输了\")\n",
    "        elif c+d==a+b:\n",
    "            print(\"你赢了\")\n",
    "zhishaizi()"
   ]
  },
  {
   "cell_type": "code",
   "execution_count": 11,
   "metadata": {},
   "outputs": [
    {
     "name": "stdout",
     "output_type": "stream",
     "text": [
      "请输入邮件地址：\n",
      "496558601\n",
      "邮件地址 496558601 @163.com\n",
      "请输入密码：\n",
      "111111\n",
      "请再次输入密码:\n",
      "111111\n",
      "密码设置成功\n",
      "请输入验证码： 3669\n",
      "3669\n",
      "验证通过\n"
     ]
    },
    {
     "ename": "AttributeError",
     "evalue": "'email' object has no attribute 'duanxin'",
     "output_type": "error",
     "traceback": [
      "\u001b[1;31m---------------------------------------------------------------------------\u001b[0m",
      "\u001b[1;31mAttributeError\u001b[0m                            Traceback (most recent call last)",
      "\u001b[1;32m<ipython-input-11-85531fcaf039>\u001b[0m in \u001b[0;36m<module>\u001b[1;34m()\u001b[0m\n\u001b[0;32m     34\u001b[0m \u001b[0msyx\u001b[0m\u001b[1;33m.\u001b[0m\u001b[0mzhuce\u001b[0m\u001b[1;33m(\u001b[0m\u001b[1;33m)\u001b[0m\u001b[1;33m\u001b[0m\u001b[0m\n\u001b[0;32m     35\u001b[0m \u001b[0msyx\u001b[0m\u001b[1;33m.\u001b[0m\u001b[0mpassword\u001b[0m\u001b[1;33m(\u001b[0m\u001b[1;33m)\u001b[0m\u001b[1;33m\u001b[0m\u001b[0m\n\u001b[1;32m---> 36\u001b[1;33m \u001b[0msyx\u001b[0m\u001b[1;33m.\u001b[0m\u001b[0myanzhengma\u001b[0m\u001b[1;33m(\u001b[0m\u001b[1;33m)\u001b[0m\u001b[1;33m\u001b[0m\u001b[0m\n\u001b[0m",
      "\u001b[1;32m<ipython-input-11-85531fcaf039>\u001b[0m in \u001b[0;36myanzhengma\u001b[1;34m(self)\u001b[0m\n\u001b[0;32m     25\u001b[0m             \u001b[1;32mif\u001b[0m \u001b[0myanzhengma_1\u001b[0m\u001b[1;33m==\u001b[0m\u001b[0myanzhengma_2\u001b[0m\u001b[1;33m:\u001b[0m\u001b[1;33m\u001b[0m\u001b[0m\n\u001b[0;32m     26\u001b[0m                 \u001b[0mprint\u001b[0m\u001b[1;33m(\u001b[0m\u001b[1;34m\"验证通过\"\u001b[0m\u001b[1;33m)\u001b[0m\u001b[1;33m\u001b[0m\u001b[0m\n\u001b[1;32m---> 27\u001b[1;33m                 \u001b[0mself\u001b[0m\u001b[1;33m.\u001b[0m\u001b[0mduanxin\u001b[0m\u001b[1;33m(\u001b[0m\u001b[1;33m)\u001b[0m\u001b[1;33m\u001b[0m\u001b[0m\n\u001b[0m\u001b[0;32m     28\u001b[0m                 \u001b[1;32mbreak\u001b[0m\u001b[1;33m\u001b[0m\u001b[0m\n\u001b[0;32m     29\u001b[0m             \u001b[1;32melse\u001b[0m\u001b[1;33m:\u001b[0m\u001b[1;33m\u001b[0m\u001b[0m\n",
      "\u001b[1;31mAttributeError\u001b[0m: 'email' object has no attribute 'duanxin'"
     ]
    }
   ],
   "source": [
    "#163邮箱注册\n",
    "import random\n",
    "class email(object):\n",
    "    def zhuce(self):\n",
    "        print(\"请输入邮件地址：\")\n",
    "        res = input('')\n",
    "        print(\"邮件地址\",res,\"@163.com\")\n",
    "    def password(self):\n",
    "        print(\"请输入密码：\")\n",
    "        self.mima = input('')\n",
    "        print(\"请再次输入密码:\")\n",
    "        self.querenmima = input('')\n",
    "        if self.mima == self.querenmima:\n",
    "            print(\"密码设置成功\")\n",
    "        else:\n",
    "            print(\"密码输入错误，请重新设置密码\")\n",
    "            self.password()\n",
    "    def yanzhengma(self):\n",
    "        for i in range(1,5):\n",
    "            if i == 4:\n",
    "                exit(0)\n",
    "            yanzhengma_1=random.randrange(1000,9999)\n",
    "            print(\"请输入验证码：\",yanzhengma_1)\n",
    "            yanzhengma_2=int(input(\"\"))\n",
    "            if yanzhengma_1==yanzhengma_2:\n",
    "                print(\"验证通过\")\n",
    "                self.duanxin()\n",
    "                break\n",
    "            else:\n",
    "                pass\n",
    "    \n",
    "        \n",
    "syx=email()\n",
    "syx.zhuce()\n",
    "syx.password()\n",
    "syx.yanzhengma()"
   ]
  },
  {
   "cell_type": "code",
   "execution_count": 14,
   "metadata": {},
   "outputs": [
    {
     "name": "stdout",
     "output_type": "stream",
     "text": [
      "请输入宽长:5\n",
      "请输入高长:5\n",
      "宽是: 5.00,高是: 5.00\n",
      "面积是: 25.0000\n",
      "周长是: 20.0000\n"
     ]
    }
   ],
   "source": [
    "#HOMEWORK2\n",
    "#1.矩形\n",
    "import math\n",
    "class rectangle(object):\n",
    "    def __init__(self,width,height):\n",
    "        self.width=width\n",
    "        self.height=height\n",
    "        print(\"宽是: %.2f,高是: %.2f\"%(width,height))\n",
    "    def getArea(self):\n",
    "        return self.width*self.height\n",
    "    def getPerimeter(self):\n",
    "        return 2*(self.width+self.height)\n",
    "if __name__==\"__main__\":\n",
    "    width=float(input(\"请输入宽长:\"))\n",
    "    height=float(input(\"请输入高长:\"))\n",
    "    r=rectangle(width,height)\n",
    "    print(\"面积是: %.4f\"%r.getArea())\n",
    "    print(\"周长是: %.4f\"%r.getPerimeter())"
   ]
  },
  {
   "cell_type": "code",
   "execution_count": 23,
   "metadata": {},
   "outputs": [
    {
     "name": "stdout",
     "output_type": "stream",
     "text": [
      "请输入您的id：123\n",
      "请输入本金：10000000\n",
      "请输入年利率：0.1\n",
      "id是123：\n",
      "金额是10000000\n",
      "月利率是0.0001：\n",
      "月利息是833.3333：\n"
     ]
    }
   ],
   "source": [
    "#2.Account类\n",
    "class Account(object):\n",
    "    def __init__(self,id,bala,ann):\n",
    "        self.__id=id\n",
    "        self.__bala=float(bala)\n",
    "        self.__ann=float(ann)\n",
    "    def getMonthlyInterestRate(self):\n",
    "        self.f=float(self.__ann/1200)\n",
    "        print('月利率是%.4f：'% self.f)\n",
    "    def getMonthlyInterest(self):\n",
    "        s=float(self.f*self.__bala)\n",
    "        print('月利息是%.4f：'% s)      \n",
    "    def withdraw(self,quzou):\n",
    "        self.quzou=quzou\n",
    "        a=float(self.__bala*self.__ann/1200)-quzou\n",
    "        print(a)\n",
    "    def deposit(self,cunqian):\n",
    "        self.cunqian=cunqian\n",
    "        b=float(elf.__bala*self.__ann/1200)-cunqian\n",
    "        print(b)        \n",
    "if __name__ == \"__main__\":\n",
    "    id=int(input('请输入您的id：'))\n",
    "    bala=float(input('请输入本金：'))\n",
    "    ann=float(input('请输入年利率：'))\n",
    "    a=Account(id,bala,ann)\n",
    "    print('id是%d：'% a._Account__id)\n",
    "    print('金额是%d'% a._Account__bala)\n",
    "    a.getMonthlyInterestRate()\n",
    "    a.getMonthlyInterest()"
   ]
  },
  {
   "cell_type": "code",
   "execution_count": 34,
   "metadata": {},
   "outputs": [
    {
     "name": "stdout",
     "output_type": "stream",
     "text": [
      "选择速度：5\n",
      "on or offon\n",
      "半径是：2\n",
      "颜色是：粉\n",
      "关闭\n",
      "2.0\n",
      "粉\n"
     ]
    }
   ],
   "source": [
    "#3.风扇\n",
    "class Fan(object):\n",
    "    def __init__(self,speed=1,on=False,radius=5,color='pink'):\n",
    "        self.SLOW=1\n",
    "        self.MEDIUM=2\n",
    "        self.FAST=3\n",
    "        self.__speed=int(speed)\n",
    "        self.__on=bool(on)\n",
    "        self.__radius=float(radius)\n",
    "        self.__color=str(color)\n",
    "    def prints(self):\n",
    "        if self.__speed==1:\n",
    "            print(\"SLOW\")\n",
    "        elif self.__speed==2:\n",
    "            print(\"MEDIUM\")\n",
    "        elif self.__speed==3:\n",
    "            print(\"FAST\")\n",
    "        if self.__on==\"on\":\n",
    "            print(\"打开\")\n",
    "        else:\n",
    "            print(\"关闭\")\n",
    "        print(self.__radius)\n",
    "        print(self.__color)\n",
    "if __name__ == \"__main__\":\n",
    "    speed=int(input(\"选择速度：\"))\n",
    "    on=bool(input('on or off'))\n",
    "    radius=float(input(\"半径是：\"))\n",
    "    color=str(input(\"颜色是：\"))\n",
    "    fan=Fan(speed,on,radius,color)\n",
    "    fan.prints()\n",
    "        "
   ]
  },
  {
   "cell_type": "code",
   "execution_count": 36,
   "metadata": {},
   "outputs": [
    {
     "name": "stdout",
     "output_type": "stream",
     "text": [
      "请输入边数:4\n",
      "请输入边长:4\n",
      "请输入x轴坐标值:4\n",
      "请输入y轴坐标值4\n",
      "周长是: .16.000000\n",
      "面积是: .16.000000\n"
     ]
    }
   ],
   "source": [
    "#4.正n边形\n",
    "import math\n",
    "class RegularPolygon(object):\n",
    "    def __init__(self,n,side,x=0,y=0):\n",
    "        self.__n=int(n)\n",
    "        self.__side=float(side)\n",
    "        self.__x=float(x)\n",
    "        self.__y=float(y)\n",
    "    def getPerimeter(self):\n",
    "        print(\"周长是: .%4f\"%(self.__n*self.__side))\n",
    "    def getArea(self):\n",
    "        self.s=self.__n*(self.__side**2)/4*math.tan(math.pi/self.__n)\n",
    "        print(\"面积是: .%4f\"%(self.s))\n",
    "if __name__ ==\"__main__\":\n",
    "    n=int(input(\"请输入边数:\"))\n",
    "    side=float(input(\"请输入边长:\"))\n",
    "    x=float(input(\"请输入x轴坐标值:\"))\n",
    "    y=float(input(\"请输入y轴坐标值\"))\n",
    "    r = RegularPolygon(n,side,x,y)\n",
    "    r.getPerimeter()\n",
    "    r.getArea()\n",
    "    "
   ]
  },
  {
   "cell_type": "code",
   "execution_count": 48,
   "metadata": {},
   "outputs": [
    {
     "name": "stdout",
     "output_type": "stream",
     "text": [
      "请输入a的值:5\n",
      "请输入b的值:2\n",
      "请输入c的值:1\n",
      "请输入d的值:1\n",
      "请输入e的值:3\n",
      "请输入f的值:1\n",
      "x的值为:2.333333\n",
      "Y的值为:4.000000\n"
     ]
    }
   ],
   "source": [
    "#5.线性方程式\n",
    "import math\n",
    "class LinearEquation(object):\n",
    "    def __init__(self,a,b,c,d,e,f):\n",
    "        self.__a=a\n",
    "        self.__b=b\n",
    "        self.__c=c\n",
    "        self.__d=d\n",
    "        self.__e=e\n",
    "        self.__f=f\n",
    "    def set_a(self,a):\n",
    "        self.__a=a\n",
    "    def get_a(self):\n",
    "        return self.__a\n",
    "    def set_b(self,b):\n",
    "        self.__b=b\n",
    "    def get_b(self):\n",
    "        return self.__b\n",
    "    def set__c(self,c):\n",
    "        self.__c=c\n",
    "    def get_c(self):\n",
    "        return self.__c\n",
    "    def set_d(self,d):\n",
    "        self.__d=d\n",
    "    def get_d(self):\n",
    "        return self.__d\n",
    "    def set_e(self,e):\n",
    "        self.__e=e\n",
    "    def get_e(self):\n",
    "        return self.__e\n",
    "    def set_f(self,f):\n",
    "        self.__f=f\n",
    "    def get_f(self):\n",
    "        return self.__f\n",
    "    def isSolvable(self):\n",
    "        if (self.__a*self.__d)-(self.__b*self.__c)!=0:\n",
    "            return True\n",
    "        else:\n",
    "            return print(\"这个方程式无解\")\n",
    "    def getX(self):\n",
    "        s=(self.__a*self.__d)-(self.__b*self.__c)\n",
    "        z=(self.__e*self.__d)-(self.__b*self.__f)/s\n",
    "        print(\"x的值为:%2f\"%z)\n",
    "    def getY(self):\n",
    "        y=(self.__a*self.__d)-(self.__b*self.__c)\n",
    "        q=(self.__a*self.__f)-(self.__e*self.__c)/y\n",
    "        print(\"Y的值为:%2f\"%q)\n",
    "if __name__ == \"__main__\":\n",
    "    a=int(input(\"请输入a的值:\"))\n",
    "    b=int(input(\"请输入b的值:\"))\n",
    "    c=int(input(\"请输入c的值:\"))\n",
    "    d=int(input(\"请输入d的值:\"))\n",
    "    e=int(input(\"请输入e的值:\"))\n",
    "    f=int(input(\"请输入f的值:\"))\n",
    "    I=LinearEquation(a,b,c,d,e,f)\n",
    "    I.isSolvable()\n",
    "    I.getX()\n",
    "    I.getY()\n",
    "        "
   ]
  },
  {
   "cell_type": "code",
   "execution_count": null,
   "metadata": {},
   "outputs": [],
   "source": [
    "#6.交叉线\n",
    "class line(object):\n",
    "    def shur(self):\n",
    "        import math\n",
    "        "
   ]
  }
 ],
 "metadata": {
  "kernelspec": {
   "display_name": "Python 3",
   "language": "python",
   "name": "python3"
  },
  "language_info": {
   "codemirror_mode": {
    "name": "ipython",
    "version": 3
   },
   "file_extension": ".py",
   "mimetype": "text/x-python",
   "name": "python",
   "nbconvert_exporter": "python",
   "pygments_lexer": "ipython3",
   "version": "3.6.4"
  }
 },
 "nbformat": 4,
 "nbformat_minor": 2
}
