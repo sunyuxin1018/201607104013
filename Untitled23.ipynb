{
 "cells": [
  {
   "cell_type": "code",
   "execution_count": 1,
   "metadata": {},
   "outputs": [
    {
     "name": "stdout",
     "output_type": "stream",
     "text": [
      "请选择人机对战或多人对战！\n",
      "输入人机对战\n",
      "您的选择是 人机对战\n",
      "请选择英雄:典韦.赵云.鲁班\n",
      "输入赵云\n",
      "您选择的是 赵云\n",
      "赵云的战斗力为20000，防御力为2000\n",
      "您选择的人物已确定，现在为您随机成对战玩家\n",
      "您的对手为 赵云\n",
      "请输入开始\n",
      "输入开始\n",
      "输入正确，请稍等\n",
      "正在努力加载，请您耐心等待！\n"
     ]
    }
   ],
   "source": [
    "#1.王者荣耀\n",
    "import numpy as np\n",
    "class wangzhe(object):\n",
    "    def  __init__(self):\n",
    "        pass\n",
    "    def renji(self):\n",
    "        print(\"请选择人机对战或多人对战！\")\n",
    "        res = input(\"输入\")\n",
    "        print(\"您的选择是\",res)\n",
    "        self.res=res\n",
    "    def hero(self):\n",
    "        print(\"请选择英雄:典韦.赵云.鲁班\")\n",
    "        ren = input(\"输入\")\n",
    "        print(\"您选择的是\",ren)\n",
    "        self.ren=ren\n",
    "    def xianshizhandouli(self):\n",
    "        if self.ren==\"典韦\":\n",
    "            print(\"典韦的战斗力为10000，防御力为5000\")\n",
    "        elif self.ren==\"赵云\":\n",
    "            print(\"赵云的战斗力为20000，防御力为2000\")\n",
    "        else:\n",
    "            print(\"鲁班的战斗力为15000，防御力为3500\")\n",
    "    def  people(self):\n",
    "        print(\"您选择的人物已确定，现在为您随机成对战玩家\")\n",
    "        s = np.random.choice(['典韦','赵云','鲁班'])\n",
    "        print(\"您的对手为\",s)\n",
    "    def begin(self):\n",
    "        print(\"请输入开始\")\n",
    "        y=input(\"输入\")\n",
    "        if y == \"开始\":\n",
    "            print(\"输入正确，请稍等\")\n",
    "        else:\n",
    "            print(\"输入有误，请重新输入\")\n",
    "    def jiazai(self):\n",
    "        print(\"正在努力加载，请您耐心等待！\")\n",
    "syx = wangzhe()\n",
    "syx.renji()\n",
    "syx.hero()\n",
    "syx.xianshizhandouli()\n",
    "syx.people()\n",
    "syx.begin()\n",
    "syx.jiazai()\n"
   ]
  },
  {
   "cell_type": "code",
   "execution_count": 2,
   "metadata": {},
   "outputs": [
    {
     "name": "stdout",
     "output_type": "stream",
     "text": [
      "请输入一个整数：100\n",
      "\n",
      "1 5 12 22 35 51 70 92 117 145 \n",
      "176 210 247 287 330 376 425 477 532 590 \n",
      "651 715 782 852 925 1001 1080 1162 1247 1335 \n",
      "1426 1520 1617 1717 1820 1926 2035 2147 2262 2380 \n",
      "2501 2625 2752 2882 3015 3151 3290 3432 3577 3725 \n",
      "3876 4030 4187 4347 4510 4676 4845 5017 5192 5370 \n",
      "5551 5735 5922 6112 6305 6501 6700 6902 7107 7315 \n",
      "7526 7740 7957 8177 8400 8626 8855 9087 9322 9560 \n",
      "9801 10045 10292 10542 10795 11051 11310 11572 11837 12105 \n",
      "12376 12650 12927 13207 13490 13776 14065 14357 14652 "
     ]
    }
   ],
   "source": [
    "#2.五角数\n",
    "def getPentagonalNumber(n):\n",
    "    a=0\n",
    "    c=0\n",
    "    for i in range(1,n,1):\n",
    "        a=int(i*(3*i-1)/2)\n",
    "        if c%10==0:\n",
    "            print()\n",
    "        print(a,end=\" \")\n",
    "        c+=1\n",
    "n=int(input(\"请输入一个整数：\"))\n",
    "getPentagonalNumber(n)"
   ]
  },
  {
   "cell_type": "code",
   "execution_count": 3,
   "metadata": {},
   "outputs": [
    {
     "name": "stdout",
     "output_type": "stream",
     "text": [
      "请输入一个数:521\n"
     ]
    },
    {
     "data": {
      "text/plain": [
       "8"
      ]
     },
     "execution_count": 3,
     "metadata": {},
     "output_type": "execute_result"
    }
   ],
   "source": [
    "#3.求一个整数各个数字的和\n",
    "def sumDigits(n):\n",
    "    g=n%10\n",
    "    s=n//10%10\n",
    "    b=n//100\n",
    "    sum=g+s+b\n",
    "    return sum\n",
    "n=int(input(\"请输入一个数:\"))\n",
    "sumDigits(n)"
   ]
  },
  {
   "cell_type": "code",
   "execution_count": 5,
   "metadata": {},
   "outputs": [
    {
     "name": "stdout",
     "output_type": "stream",
     "text": [
      "Enter three numbers:15,20,5\n"
     ]
    },
    {
     "data": {
      "text/plain": [
       "(5.0, 15.0, 20.0)"
      ]
     },
     "execution_count": 5,
     "metadata": {},
     "output_type": "execute_result"
    }
   ],
   "source": [
    "#4.对三个数排序\n",
    "def displaySortedNumbers(s,y,x):\n",
    "    if s>y:\n",
    "        s,y=y,s\n",
    "    if y>x:\n",
    "        y,x=x,y\n",
    "    if s>y:\n",
    "        s,y=y,s\n",
    "    return s,y,x\n",
    "s,y,x=map(float,input(\"Enter three numbers:\").split(','))\n",
    "displaySortedNumbers(s,y,x)\n"
   ]
  },
  {
   "cell_type": "code",
   "execution_count": 7,
   "metadata": {},
   "outputs": [
    {
     "name": "stdout",
     "output_type": "stream",
     "text": [
      "请输入坐标4 3 5 7\n"
     ]
    },
    {
     "data": {
      "text/plain": [
       "4.123105625617661"
      ]
     },
     "execution_count": 7,
     "metadata": {},
     "output_type": "execute_result"
    }
   ],
   "source": [
    "#8.两点之间距离\n",
    "import math\n",
    "def distance(x1,y1,x2,y2):\n",
    "    a=x2-x1\n",
    "    b=y2-y1\n",
    "    c=math.sqrt((a**2)+(b**2))\n",
    "    return c\n",
    "x1,y1,x2,y2=map(int,input(\"请输入坐标\").split())\n",
    "distance(x1,y1,x2,y2)    "
   ]
  },
  {
   "cell_type": "code",
   "execution_count": 8,
   "metadata": {},
   "outputs": [
    {
     "name": "stdout",
     "output_type": "stream",
     "text": [
      "本地日期及时间为： Wed Aug  7 16:35:04 2019\n"
     ]
    }
   ],
   "source": [
    "#10显示当前时间和日期\n",
    "import time\n",
    "localtime = time.asctime(time.localtime(time.time()))\n",
    "print(\"本地日期及时间为：\",localtime)"
   ]
  },
  {
   "cell_type": "code",
   "execution_count": 9,
   "metadata": {},
   "outputs": [
    {
     "name": "stdout",
     "output_type": "stream",
     "text": [
      "恭喜，你赢了！\n"
     ]
    }
   ],
   "source": [
    "#11掷骰子\n",
    "import random\n",
    "def zhishaizi():\n",
    "    a=random.choice([1,2,3,4,5,6])\n",
    "    b=random.choice([1,2,3,4,5,6])\n",
    "    if a+b==2 or a+b==3 or a+b==12:\n",
    "        print(\"抱歉，你输了！\")\n",
    "    elif a+b==7 or a+b==11:\n",
    "        print(\"恭喜，你赢了！\")\n",
    "    else:\n",
    "        c=random.choice([1,2,3,4,5,6])\n",
    "        d=random.choice([1,2,3,4,5,6])\n",
    "        if c+d==7:\n",
    "            print(\"抱歉！你输了\")\n",
    "        elif c+d==a+b:\n",
    "            print(\"你赢了\")\n",
    "zhishaizi()"
   ]
  },
  {
   "cell_type": "code",
   "execution_count": 11,
   "metadata": {},
   "outputs": [
    {
     "name": "stdout",
     "output_type": "stream",
     "text": [
      "请输入邮件地址：\n",
      "496558601\n",
      "邮件地址 496558601 @163.com\n",
      "请输入密码：\n",
      "111111\n",
      "请再次输入密码:\n",
      "111111\n",
      "密码设置成功\n",
      "请输入验证码： 3669\n",
      "3669\n",
      "验证通过\n"
     ]
    },
    {
     "ename": "AttributeError",
     "evalue": "'email' object has no attribute 'duanxin'",
     "output_type": "error",
     "traceback": [
      "\u001b[1;31m---------------------------------------------------------------------------\u001b[0m",
      "\u001b[1;31mAttributeError\u001b[0m                            Traceback (most recent call last)",
      "\u001b[1;32m<ipython-input-11-85531fcaf039>\u001b[0m in \u001b[0;36m<module>\u001b[1;34m()\u001b[0m\n\u001b[0;32m     34\u001b[0m \u001b[0msyx\u001b[0m\u001b[1;33m.\u001b[0m\u001b[0mzhuce\u001b[0m\u001b[1;33m(\u001b[0m\u001b[1;33m)\u001b[0m\u001b[1;33m\u001b[0m\u001b[0m\n\u001b[0;32m     35\u001b[0m \u001b[0msyx\u001b[0m\u001b[1;33m.\u001b[0m\u001b[0mpassword\u001b[0m\u001b[1;33m(\u001b[0m\u001b[1;33m)\u001b[0m\u001b[1;33m\u001b[0m\u001b[0m\n\u001b[1;32m---> 36\u001b[1;33m \u001b[0msyx\u001b[0m\u001b[1;33m.\u001b[0m\u001b[0myanzhengma\u001b[0m\u001b[1;33m(\u001b[0m\u001b[1;33m)\u001b[0m\u001b[1;33m\u001b[0m\u001b[0m\n\u001b[0m",
      "\u001b[1;32m<ipython-input-11-85531fcaf039>\u001b[0m in \u001b[0;36myanzhengma\u001b[1;34m(self)\u001b[0m\n\u001b[0;32m     25\u001b[0m             \u001b[1;32mif\u001b[0m \u001b[0myanzhengma_1\u001b[0m\u001b[1;33m==\u001b[0m\u001b[0myanzhengma_2\u001b[0m\u001b[1;33m:\u001b[0m\u001b[1;33m\u001b[0m\u001b[0m\n\u001b[0;32m     26\u001b[0m                 \u001b[0mprint\u001b[0m\u001b[1;33m(\u001b[0m\u001b[1;34m\"验证通过\"\u001b[0m\u001b[1;33m)\u001b[0m\u001b[1;33m\u001b[0m\u001b[0m\n\u001b[1;32m---> 27\u001b[1;33m                 \u001b[0mself\u001b[0m\u001b[1;33m.\u001b[0m\u001b[0mduanxin\u001b[0m\u001b[1;33m(\u001b[0m\u001b[1;33m)\u001b[0m\u001b[1;33m\u001b[0m\u001b[0m\n\u001b[0m\u001b[0;32m     28\u001b[0m                 \u001b[1;32mbreak\u001b[0m\u001b[1;33m\u001b[0m\u001b[0m\n\u001b[0;32m     29\u001b[0m             \u001b[1;32melse\u001b[0m\u001b[1;33m:\u001b[0m\u001b[1;33m\u001b[0m\u001b[0m\n",
      "\u001b[1;31mAttributeError\u001b[0m: 'email' object has no attribute 'duanxin'"
     ]
    }
   ],
   "source": [
    "#163邮箱注册\n",
    "import random\n",
    "class email(object):\n",
    "    def zhuce(self):\n",
    "        print(\"请输入邮件地址：\")\n",
    "        res = input('')\n",
    "        print(\"邮件地址\",res,\"@163.com\")\n",
    "    def password(self):\n",
    "        print(\"请输入密码：\")\n",
    "        self.mima = input('')\n",
    "        print(\"请再次输入密码:\")\n",
    "        self.querenmima = input('')\n",
    "        if self.mima == self.querenmima:\n",
    "            print(\"密码设置成功\")\n",
    "        else:\n",
    "            print(\"密码输入错误，请重新设置密码\")\n",
    "            self.password()\n",
    "    def yanzhengma(self):\n",
    "        for i in range(1,5):\n",
    "            if i == 4:\n",
    "                exit(0)\n",
    "            yanzhengma_1=random.randrange(1000,9999)\n",
    "            print(\"请输入验证码：\",yanzhengma_1)\n",
    "            yanzhengma_2=int(input(\"\"))\n",
    "            if yanzhengma_1==yanzhengma_2:\n",
    "                print(\"验证通过\")\n",
    "                self.duanxin()\n",
    "                break\n",
    "            else:\n",
    "                pass\n",
    "    \n",
    "        \n",
    "syx=email()\n",
    "syx.zhuce()\n",
    "syx.password()\n",
    "syx.yanzhengma()"
   ]
  },
  {
   "cell_type": "code",
   "execution_count": 14,
   "metadata": {},
   "outputs": [
    {
     "name": "stdout",
     "output_type": "stream",
     "text": [
      "请输入宽长:5\n",
      "请输入高长:5\n",
      "宽是: 5.00,高是: 5.00\n",
      "面积是: 25.0000\n",
      "周长是: 20.0000\n"
     ]
    }
   ],
   "source": [
    "#HOMEWORK2\n",
    "#1.矩形\n",
    "import math\n",
    "class rectangle(object):\n",
    "    def __init__(self,width,height):\n",
    "        self.width=width\n",
    "        self.height=height\n",
    "        print(\"宽是: %.2f,高是: %.2f\"%(width,height))\n",
    "    def getArea(self):\n",
    "        return self.width*self.height\n",
    "    def getPerimeter(self):\n",
    "        return 2*(self.width+self.height)\n",
    "if __name__==\"__main__\":\n",
    "    width=float(input(\"请输入宽长:\"))\n",
    "    height=float(input(\"请输入高长:\"))\n",
    "    r=rectangle(width,height)\n",
    "    print(\"面积是: %.4f\"%r.getArea())\n",
    "    print(\"周长是: %.4f\"%r.getPerimeter())"
   ]
  },
  {
   "cell_type": "code",
   "execution_count": 23,
   "metadata": {},
   "outputs": [
    {
     "name": "stdout",
     "output_type": "stream",
     "text": [
      "请输入您的id：123\n",
      "请输入本金：10000000\n",
      "请输入年利率：0.1\n",
      "id是123：\n",
      "金额是10000000\n",
      "月利率是0.0001：\n",
      "月利息是833.3333：\n"
     ]
    }
   ],
   "source": [
    "#2.Account类\n",
    "class Account(object):\n",
    "    def __init__(self,id,bala,ann):\n",
    "        self.__id=id\n",
    "        self.__bala=float(bala)\n",
    "        self.__ann=float(ann)\n",
    "    def getMonthlyInterestRate(self):\n",
    "        self.f=float(self.__ann/1200)\n",
    "        print('月利率是%.4f：'% self.f)\n",
    "    def getMonthlyInterest(self):\n",
    "        s=float(self.f*self.__bala)\n",
    "        print('月利息是%.4f：'% s)      \n",
    "    def withdraw(self,quzou):\n",
    "        self.quzou=quzou\n",
    "        a=float(self.__bala*self.__ann/1200)-quzou\n",
    "        print(a)\n",
    "    def deposit(self,cunqian):\n",
    "        self.cunqian=cunqian\n",
    "        b=float(elf.__bala*self.__ann/1200)-cunqian\n",
    "        print(b)        \n",
    "if __name__ == \"__main__\":\n",
    "    id=int(input('请输入您的id：'))\n",
    "    bala=float(input('请输入本金：'))\n",
    "    ann=float(input('请输入年利率：'))\n",
    "    a=Account(id,bala,ann)\n",
    "    print('id是%d：'% a._Account__id)\n",
    "    print('金额是%d'% a._Account__bala)\n",
    "    a.getMonthlyInterestRate()\n",
    "    a.getMonthlyInterest()"
   ]
  },
  {
   "cell_type": "code",
   "execution_count": 34,
   "metadata": {},
   "outputs": [
    {
     "name": "stdout",
     "output_type": "stream",
     "text": [
      "选择速度：5\n",
      "on or offon\n",
      "半径是：2\n",
      "颜色是：粉\n",
      "关闭\n",
      "2.0\n",
      "粉\n"
     ]
    }
   ],
   "source": [
    "#3.风扇\n",
    "class Fan(object):\n",
    "    def __init__(self,speed=1,on=False,radius=5,color='pink'):\n",
    "        self.SLOW=1\n",
    "        self.MEDIUM=2\n",
    "        self.FAST=3\n",
    "        self.__speed=int(speed)\n",
    "        self.__on=bool(on)\n",
    "        self.__radius=float(radius)\n",
    "        self.__color=str(color)\n",
    "    def prints(self):\n",
    "        if self.__speed==1:\n",
    "            print(\"SLOW\")\n",
    "        elif self.__speed==2:\n",
    "            print(\"MEDIUM\")\n",
    "        elif self.__speed==3:\n",
    "            print(\"FAST\")\n",
    "        if self.__on==\"on\":\n",
    "            print(\"打开\")\n",
    "        else:\n",
    "            print(\"关闭\")\n",
    "        print(self.__radius)\n",
    "        print(self.__color)\n",
    "if __name__ == \"__main__\":\n",
    "    speed=int(input(\"选择速度：\"))\n",
    "    on=bool(input('on or off'))\n",
    "    radius=float(input(\"半径是：\"))\n",
    "    color=str(input(\"颜色是：\"))\n",
    "    fan=Fan(speed,on,radius,color)\n",
    "    fan.prints()\n",
    "        "
   ]
  },
  {
   "cell_type": "code",
   "execution_count": 36,
   "metadata": {},
   "outputs": [
    {
     "name": "stdout",
     "output_type": "stream",
     "text": [
      "请输入边数:4\n",
      "请输入边长:4\n",
      "请输入x轴坐标值:4\n",
      "请输入y轴坐标值4\n",
      "周长是: .16.000000\n",
      "面积是: .16.000000\n"
     ]
    }
   ],
   "source": [
    "#4.正n边形\n",
    "import math\n",
    "class RegularPolygon(object):\n",
    "    def __init__(self,n,side,x=0,y=0):\n",
    "        self.__n=int(n)\n",
    "        self.__side=float(side)\n",
    "        self.__x=float(x)\n",
    "        self.__y=float(y)\n",
    "    def getPerimeter(self):\n",
    "        print(\"周长是: .%4f\"%(self.__n*self.__side))\n",
    "    def getArea(self):\n",
    "        self.s=self.__n*(self.__side**2)/4*math.tan(math.pi/self.__n)\n",
    "        print(\"面积是: .%4f\"%(self.s))\n",
    "if __name__ ==\"__main__\":\n",
    "    n=int(input(\"请输入边数:\"))\n",
    "    side=float(input(\"请输入边长:\"))\n",
    "    x=float(input(\"请输入x轴坐标值:\"))\n",
    "    y=float(input(\"请输入y轴坐标值\"))\n",
    "    r = RegularPolygon(n,side,x,y)\n",
    "    r.getPerimeter()\n",
    "    r.getArea()\n",
    "    "
   ]
  },
  {
   "cell_type": "code",
   "execution_count": 48,
   "metadata": {},
   "outputs": [
    {
     "name": "stdout",
     "output_type": "stream",
     "text": [
      "请输入a的值:5\n",
      "请输入b的值:2\n",
      "请输入c的值:1\n",
      "请输入d的值:1\n",
      "请输入e的值:3\n",
      "请输入f的值:1\n",
      "x的值为:2.333333\n",
      "Y的值为:4.000000\n"
     ]
    }
   ],
   "source": [
    "#5.线性方程式\n",
    "import math\n",
    "class LinearEquation(object):\n",
    "    def __init__(self,a,b,c,d,e,f):\n",
    "        self.__a=a\n",
    "        self.__b=b\n",
    "        self.__c=c\n",
    "        self.__d=d\n",
    "        self.__e=e\n",
    "        self.__f=f\n",
    "    def set_a(self,a):\n",
    "        self.__a=a\n",
    "    def get_a(self):\n",
    "        return self.__a\n",
    "    def set_b(self,b):\n",
    "        self.__b=b\n",
    "    def get_b(self):\n",
    "        return self.__b\n",
    "    def set__c(self,c):\n",
    "        self.__c=c\n",
    "    def get_c(self):\n",
    "        return self.__c\n",
    "    def set_d(self,d):\n",
    "        self.__d=d\n",
    "    def get_d(self):\n",
    "        return self.__d\n",
    "    def set_e(self,e):\n",
    "        self.__e=e\n",
    "    def get_e(self):\n",
    "        return self.__e\n",
    "    def set_f(self,f):\n",
    "        self.__f=f\n",
    "    def get_f(self):\n",
    "        return self.__f\n",
    "    def isSolvable(self):\n",
    "        if (self.__a*self.__d)-(self.__b*self.__c)!=0:\n",
    "            return True\n",
    "        else:\n",
    "            return print(\"这个方程式无解\")\n",
    "    def getX(self):\n",
    "        s=(self.__a*self.__d)-(self.__b*self.__c)\n",
    "        z=(self.__e*self.__d)-(self.__b*self.__f)/s\n",
    "        print(\"x的值为:%2f\"%z)\n",
    "    def getY(self):\n",
    "        y=(self.__a*self.__d)-(self.__b*self.__c)\n",
    "        q=(self.__a*self.__f)-(self.__e*self.__c)/y\n",
    "        print(\"Y的值为:%2f\"%q)\n",
    "if __name__ == \"__main__\":\n",
    "    a=int(input(\"请输入a的值:\"))\n",
    "    b=int(input(\"请输入b的值:\"))\n",
    "    c=int(input(\"请输入c的值:\"))\n",
    "    d=int(input(\"请输入d的值:\"))\n",
    "    e=int(input(\"请输入e的值:\"))\n",
    "    f=int(input(\"请输入f的值:\"))\n",
    "    I=LinearEquation(a,b,c,d,e,f)\n",
    "    I.isSolvable()\n",
    "    I.getX()\n",
    "    I.getY()\n",
    "        "
   ]
  },
  {
   "cell_type": "code",
   "execution_count": 2,
   "metadata": {},
   "outputs": [],
   "source": [
    "#6.交叉线\n",
    "\n",
    "        "
   ]
  },
  {
   "cell_type": "code",
   "execution_count": 4,
   "metadata": {},
   "outputs": [],
   "source": [
    "# 用类封装3个功能\n",
    "# wxpy:用python玩微信\n",
    "# 1.对于特定好友自动回复，文本和图片。\n",
    "# 2.封装一个统计微信中性别数量和总人数的比例，\n",
    "# 男生的比例，女生的比例，未知的比例，并绘制\n",
    "# 3.统计你的好友都属于哪个省份并绘制直方图。"
   ]
  },
  {
   "cell_type": "code",
   "execution_count": 6,
   "metadata": {},
   "outputs": [
    {
     "name": "stderr",
     "output_type": "stream",
     "text": [
      "Getting uuid of QR code.\n",
      "Downloading QR code.\n",
      "Please scan the QR code to log in.\n",
      "Please press confirm on your phone.\n",
      "LOG OUT!\n",
      "Loading the contact, this may take a little while.\n",
      "Login successfully as 孙育新\n"
     ]
    },
    {
     "name": "stdout",
     "output_type": "stream",
     "text": [
      "[<Friend: 孙育新>, <Friend: 17统计一班  陈帅>, <Friend: 漫宇哥哥～>, <Friend: 王德振>, <Friend: 刘玮>, <Friend: Agatha.>, <Friend: ALING👾℃°>, <Friend: 爸爸>, <Friend: 王琳博>, <Friend: 琦飞化妆品>, <Friend: A華麗的沉默（在线）>, <Friend: 刘昱璞>, <Friend: 孙龙>, <Friend: 孙广琴>, <Friend: 木木>, <Friend: 创一电商>, <Friend: 木子>, <Friend: 衫国演义>, <Friend: 老舅>, <Friend: 吴思阳>, <Friend: 张诗童>, <Friend: A_Da鹏 潮牌专用🤘🏿>, <Friend: 小旋风>, <Friend: 孙悦学>, <Friend: AA👑柏尚魅俪®金牌丹丹2店👙>, <Friend: 胡小敏>, <Friend: 小医妈妈>, <Friend: 徐诗颖>, <Friend: 徐健健>, <Friend: 汇沙绘爱～沙画 沙瓶画2>, <Friend: 代购的小妮子>, <Friend: 更好的你>, <Friend: 马永胜 16数学>, <Friend: 焦晨旭>, <Friend: 美兴，报货号，对帐号>, <Friend: 赵新璐>, <Friend: TIAN STUDIO>, <Friend: 大米🍃>, <Friend: AA 木子家 (九号店) 招代理>, <Friend: 韩sir's Beauty Studio🔮>, <Friend: 杨岚阔>, <Friend: 孟乐 ᠮᠧᠩ ᠯᠧ>, <Friend: 建辉>, <Friend: 姚伟月>, <Friend: 马老师>, <Friend: 刘圣坤>, <Friend: 芯>, <Friend: 单宏超(哈尔滨出租车司机)>, <Friend: 彭彦茹>, <Friend: 康立英>, <Friend: 邢宏敏>, <Friend: show飒>, <Friend: 郝春浩>, <Friend: 孙盛世>, <Friend: 黄明月>, <Friend: 崔志夫>, <Friend: 拉图>, <Friend: 孙悦福>, <Friend: 移动>, <Friend: hh可可🌸>, <Friend: 15统计崔志夫>, <Friend: 宝川>, <Friend: 聚英联盟创始🔥小艳>, <Friend: 咸咸的海风>, <Friend: 化学 杨柳>, <Friend: 孙海玲>, <Friend: 化妆品>, <Friend: 杨轩>, <Friend: 孙悦>, <Friend: 吕梦萱>, <Friend: 潘昭刚>, <Friend: 张娇娇>, <Friend: 刘钰>, <Friend: 且行且珍惜！！！>, <Friend: 郭晓迪>, <Friend: 中政天王咨询师~王艳芬13314761271>, <Friend: 王亚新>, <Friend: 林洪燕>, <Friend: 米线>, <Friend: 大嫂子>, <Friend: 于嵩阳>, <Friend: <span class=\"emoji emoji2747\"></span>大伟 <span class=\"emoji emoji1f339\"></span>>, <Friend: A.雨晴4号店~不听语音>, <Friend: 宛如清风>, <Friend: 鞠新拓>, <Friend: 赵永祥>, <Friend: 麦>, <Friend: 徐州美丽姐服装4号店>, <Friend: 小样贼叼>, <Friend: 魏建忠>, <Friend: 王晓萌>, <Friend: 张颖喆＋数学教育>, <Friend: 吴东>, <Friend: Oin    欧韩工作室>, <Friend: 旺香婷海燕>, <Friend: 孙浩>, <Friend: 我只对自己好>, <Friend: 💓 Free and easy💓>, <Friend: 七哥哥（二号店）>, <Friend: 王欣阳>, <Friend: 曹阳>, <Friend: 张炳娜. 数学教育>, <Friend: 赵新达>, <Friend: 大姑>, <Friend: 芯琳1号店：快手号xiaowu3333999>, <Friend: 安欣>, <Friend: ^_^燕^_^>, <Friend: 常志敏>, <Friend: 邢正如>, <Friend: 英语老师>, <Friend: 范晓杰>, <Friend: 美食广场佳品惠超市客服>, <Friend: 孙丽华>, <Friend: 杜宣德>, <Friend: 拉拉老师>, <Friend: 麻辣拌>, <Friend: 徐敏>, <Friend: 妈妈>, <Friend: 格调👗莉莉搭配V4>, <Friend: L、>, <Friend: 朱鸿飞>, <Friend: 冬去春来>, <Friend: 田玉霞老师>, <Friend: 杜晓峰>, <Friend: 王璐瑶>, <Friend: 石磊>, <Friend: 哇哇>, <Friend: 江宁>, <Friend: 乌茶邦>, <Friend: 朱晓燕  数教>, <Friend: 梁世鹏>, <Friend: 胡旺>, <Friend: 秦昊>, <Friend: 付贵>, <Friend: 東哥的店（回复慢请见谅）>, <Friend: 卜浩浩>, <Friend: AAA  极渡形象设计室  13948093913>, <Friend: U盘>, <Friend: 杨海艳>, <Friend: 周轩扬>, <Friend: 茉莉花开>, <Friend: 郑波应用统计一班15391102312>, <Friend: 迟金明>, <Friend: 你是我的十二>, <Friend: 陶画缘泥人定制客服>, <Friend: 高成浩>, <Friend: 旺香婷二道街店田甜>, <Friend: 贺娜>, <Friend: 静>, <Friend: 晨睿洁客服9部>, <Friend: 52HZ>, <Friend: 王影605-15049543867>, <Friend: 魔鬼减脂训练营客服阿慧>, <Friend: 丛婷婷>, <Friend: 王思彤>, <Friend: 刘鸿博>, <Friend: 娄延松>, <Friend: A   Miss Li👗(二号微信)>, <Friend: 田甜>, <Friend: 大姨父>, <Friend: zuzu素颜霜>, <Friend: 杨美琪学姐>, <Friend: 👑EX❤GF👑>, <Friend: 代行强>, <Friend: 郭智强>, <Friend: 👊🏻>, <Friend: 张芮>, <Friend: 鲁艳凤>, <Friend: 创业小哥🕺>, <Friend: AYU STUDIO一号>, <Friend: 薄荷小局吗>, <Friend: 张玉杰>, <Friend: 啊👧🏻是豆浆姑娘～>, <Friend: 张龙宇>, <Friend: Ai呼大甜字格订餐电话18947559565>, <Friend: 你>, <Friend: 李圆媛>, <Friend: 首饰>, <Friend: 包国香>, <Friend: 郭志颖>, <Friend: 张佳彤>, <Friend: 霍雯雪>, <Friend: 移动2>, <Friend: Hello 348>, <Friend: 刘令文>, <Friend: 史娇娇>, <Friend: 梁云鹏>, <Friend: 榴莲🇰🇷教搭配>, <Friend: 常智慧>, <Friend: 高阳>, <Friend: 向日葵🌻>, <Friend: 张海涛  >, <Friend: 群聊\"甜字格（东湖墅园美食广场）A\"的.>, <Friend: AAA茹果化妆品燕子>, <Friend:  秦聪妮>, <Friend: 蕾蕾🎈>, <Friend: 张毅康>, <Friend: 牛妹儿<span class=\"emoji emoji1f47e\"></span>>, <Friend: ❤>, <Friend: 郭淑颖>, <Friend: 白告💋Y>, <Friend: 琦哥～>, <Friend: 爸爸>, <Friend: 祈欣悦音乐指导>, <Friend: 爆爆的小跟班>, <Friend: 刘绪哲>, <Friend: 爆爆的小跟班>, <Friend: A洋哥.zuzu.粉瑟.欧束>, <Friend: 刘静     605    15047647166>, <Friend: 你可爱帅气的弟弟>, <Friend: 李佳明>, <Friend: 转身   *Smile>, <Friend: 安歌>, <Friend: 布娃娃老师13154702219>, <Friend: 八九🌸>, <Friend: 王金红>, <Friend: 北葵向暖>, <Friend: 齐昕冉>, <Friend: 此号注销>, <Friend: 法芊⁽⁽ଘ崇峥ଓ⁾⁾>, <Friend: SUMMER 夏天🍋1号>, <Friend: 张子勉>, <Friend: 大朋友👦🏼>, <Friend: BINGYI💞 雪雪>, <Friend: AA法伯丽官方代理🌹 苗苗🌹>, <Friend: 狼真的来了>, <Friend: 徐亭亭>, <Friend: 一刻达快递代取>, <Friend: 韩志超>, <Friend: 师超越>, <Friend: 孤独*无名指>, <Friend: 宗亚楠      数学教育>, <Friend: 黄鹤显>, <Friend: 创新教育>, <Friend: 王宁>, <Friend: 杨浩>, <Friend: 李静怡>, <Friend: 娟娟＆瘦脸面膜正品店>, <Friend: 糖糖🍧女神饰界1号店(招代理)>, <Friend: 🌸 球球家1号店🌸>, <Friend: 孙亚鹏>, <Friend: 努力去做每件事>, <Friend: AAWK💋>, <Friend: 赵亚茹>, <Friend: 汪洋>, <Friend: 邢显昭>, <Friend: 图雅13245151516>, <Friend: 李晓庆>, <Friend: 17应统一班刘金超>, <Friend: 孙玉柱>, <Friend: A🔥【恋俏姿】联合董事小妍 主号>, <Friend: 宋双双>, <Friend: 😈>, <Friend: 建工唐震>, <Friend: 侯海捷>, <Friend: Ai赵新璐>, <Friend: 俏佳人美妆小铺赵书晨>, <Friend: 鞠伟佳>, <Friend: 冯小敏~>, <Friend: OUSHU>, <Friend: 石琦>, <Friend: 邹存那>, <Friend: MM>, <Friend: AA 鵬弟儿 品质🏀 潮牌>, <Friend: 姜娜>, <Friend: 王小方老师>, <Friend: 董妍>, <Friend: 包雪松>, <Friend: 吉米·卡罗琳团队客服8696>, <Friend: 今晚忘了做作业>, <Friend: 房东阿姨>, <Friend: 马玉秋>, <Friend: 杨昊天>, <Friend: 于芳冰>, <Friend: 袁婷>, <Friend: 贵君（运动营养品终端供应链）>, <Friend: 00>, <Friend: 吕莉统计二班>, <Friend: 黄连荣>, <Friend: 美娇姐>, <Friend: 🙊>, <Friend: 范安荣>, <Friend: 腻味.>, <Friend: 春宇>, <Friend: 安冉>, <Friend: 小宁宁🐳>, <Friend: 嘴角上扬@>, <Friend: 赵红敏   15124953353>, <Friend: 薛皓>, <Friend: Fairy°好菇凉💋>, <Friend: 汀汀ღ1店｜本人回复>, <Friend: 李博颖>, <Friend: 莹莹>, <Friend: 孙素梅>, <Friend: 孙鹏>, <Friend: 孙珍珍>, <Friend: 孙喜亮>, <Friend: 华硕>, <Friend: 小棋家>, <Friend: 王新禹>, <Friend: 张钰琪>, <Friend: 数学与应用数学――乌苏>, <Friend: 申建国>, <Friend: 宏达>, <Friend: 饰品店>, <Friend: 然>, <Friend: 常盼盼>, <Friend: 韩源 学习  18547005931>, <Friend: 王晓鹏>, <Friend: 王军领>, <Friend: 17应数张旭>, <Friend: 生活部赵娇15847735030>, <Friend: 李秉哲>, <Friend: 17级欧其日拉 数学系 应数蒙班>, <Friend: 娜么美👗 3号店，支持花呗>, <Friend: 吕智红>, <Friend: 小瓶子🍓（休息中  秋冬在见咯）>, <Friend: 帅老板<span class=\"emoji emoji1f4b0\"></span>🍍🍍🍍>, <Friend: 史健>, <Friend: 邵岩>, <Friend: 陈笑迎>, <Friend: 叶芸>, <Friend: 旋佳琪>, <Friend: 老弟～>, <Friend: 王琪>, <Friend: 陈鑫>, <Friend: 2016，>, <Friend: 白璐>, <Friend: 侯文涵>, <Friend: 17 应数 王鑫>, <Friend: 孙怡>, <Friend: 牛彦凯>, <Friend: EmmaMiaozi>, <Friend: 李文慧>, <Friend: 王科然>, <Friend: 姜亚飞>, <Friend: 李佳瑞>, <Friend: 王猛>, <Friend: 石登辉>, <Friend: 艾米--自然旋律护肤导师>, <Friend: 医采璐璐2⃣号店【免费培养网红】>, <Friend: 姜帅>, <Friend: 健健ོિ>, <Friend: 焦宗洋>, <Friend: 张志敏>, <Friend: 刘梦冉>, <Friend: 于天奇>, <Friend: 劉慧>, <Friend: 丽敏>, <Friend: 籍旭>, <Friend: <span class=\"emoji emoji1f48e\"></span>罂粟<span class=\"emoji emoji1f448\"></span><span class=\"emoji emoji1f448\"></span>>, <Friend: 阿微>, <Friend: 杨东云>, <Friend: 2班张晨照>, <Friend: 郭慧敏>, <Friend: 石盈鑫>, <Friend: 张奥迪>, <Friend: liumeiSHAN.>, <Friend: 嗯.>, <Friend: 张尧>, <Friend: 李颖超>, <Friend: 付光华应統一班13384752023>, <Friend: 赵昀>, <Friend: 张舒>, <Friend: 社团部 徐浩然 15391104890>, <Friend: 张丽芳>, <Friend: 王昌荣>, <Friend: 陈颖>, <Friend: 李东生>, <Friend: 葛秀敏>, <Friend: 数风流人物还看今朝>, <Friend: 金新华>, <Friend: 贺婧>, <Friend: 水果超市>, <Friend: 李文浩>, <Friend: 是你的汀汀>, <Friend: 刘琳>, <Friend: 孙超>, <Friend: 简单>, <Friend: 林雨新>, <Friend: 张欣欣>, <Friend: 刘娟>, <Friend: 华汇c042嘿店>, <Friend: 李颖>, <Friend: 田成>, <Friend: 汪祺>, <Friend: 白淑霞>, <Friend: 17级其力格尔>, <Friend: 17应统二班付立琼18047085249>, <Friend: 橘子味的刺猬>, <Friend: 王华峰>, <Friend: 悦悦ѕнσρ¹🦌（本人回复）>, <Friend: 18级信息一班李琦鑫>, <Friend: 趙娅妮_>, <Friend: 赵可.🎀>, <Friend: 郝铭>, <Friend: 郎亚萍>, <Friend: 雅楠💜 ღ>, <Friend: H🎈>, <Friend: 名爵健身>, <Friend: 田梦颖>, <Friend: 季丽华>, <Friend: 水果茶>, <Friend: 宋添祎>, <Friend: 倪斯楠>, <Friend: 康广月>, <Friend: 张丹妮>, <Friend: 张浩>, <Friend: Glassy Sky.>, <Friend: 于鸿麒>, <Friend: 截图全5星+会员名发给我>, <Friend: 刘丽丽>, <Friend: 张帅>, <Friend: 段连贺>, <Friend: 十月 (在线-）>, <Friend: 于月>, <Friend: 谢晓曼>, <Friend: 鞠新利>, <Friend: 许瑞应数一班>, <Friend: 🐾 卑微小张>, <Friend: 乌仁塔娜>, <Friend: 杨春泽>, <Friend: 贾琼>, <Friend: 徐慧乔>, <Friend: 常宇，应数2班>, <Friend: 曹丽媛>, <Friend: 刘小多>, <Friend: 孙佳宜>, <Friend: 鞠伟楠>, <Friend: 健身>, <Friend: 大姐姐>, <Friend: 杨旭 17648272494>, <Friend: 刘文旭>, <Friend: 余明玉>, <Friend: 李耀祖>, <Friend: 王琳博>, <Friend: 杨倩文>, <Friend: 首饰>, <Friend: A小胖>, <Friend: 伊敏>, <Friend: 王晓雨>, <Friend: 张天一>, <Friend: 朱慧>, <Friend: 张猛>, <Friend: 刘聪>, <Friend: 郝建成>, <Friend: 17级赵方>, <Friend: 陈少祖>, <Friend: 张佳宁>, <Friend: 加新18843290610>, <Friend: 七瓣雪～小雪（非24小时在线）>, <Friend: 应数数朱赛男>, <Friend: 天浩哥哥>, <Friend: 侯丽娇+数学教育>, <Friend: 刘玮>, <Friend: 沈亚旭>, <Friend: 应数2班金易涵>, <Friend: 姜蕊>, <Friend: 李天文>, <Friend: 孙悦>, <Friend: 开心每一天>, <Friend: 忻林慧>, <Friend: 腻.>, <Friend: 💋面条®8号  鲸彩生活 内排抢占期>, <Friend: 梁悦悦>, <Friend: 如梦奇遇手工 本本>, <Friend: 学习部 张泽峰 13847078746>, <Friend: 18信息一班      颜旭>, <Friend: 赤>, <Friend: 医采天骄总代🌹云林【招代理】>, <Friend: 医采光速战队总代-灰灰>, <Friend: 秦敬怡>, <Friend: 喻宏影>, <Friend: 17级应数蒙班，堂何斯>, <Friend: 莲花>, <Friend: 刘含信息二班>, <Friend: 李馨晔>, <Friend: 兽大大>, <Friend: no>, <Friend: A_🍑>, <Friend: 王大鹏>, <Friend: ZYH化妆师🌻张三金>, <Friend: L🍓>, <Friend: 张颖>, <Friend: 张雅倩>, <Friend: 小可爱>, <Friend: 赵燕琳>, <Friend: 亚宁🤔>, <Friend: 阿艳>, <Friend: 雁回>, <Friend: 社团部，陈胜楠15391105639>, <Friend: 辛兵>, <Friend: 赵文洋>, <Friend: 丁亚娟 17级 数学教育>, <Friend: 温守杰>, <Friend: 侯立颖>, <Friend: 王珠拉>, <Friend: A月月💞  󾠮 号店招代理(遮瑕BB)>, <Friend: Reine>]\n"
     ]
    },
    {
     "data": {
      "text/plain": [
       "↪ 17统计一班  陈帅 : Hello Wechat! (Text)"
      ]
     },
     "execution_count": 6,
     "metadata": {},
     "output_type": "execute_result"
    }
   ],
   "source": [
    "from wxpy import *\n",
    "bot =Bot()\n",
    "my_friend = bot.friends()\n",
    "print(my_friend)\n",
    "my_friend = bot.friends().search('帅')[0]\n",
    "my_friend.send('Hello Wechat!')"
   ]
  },
  {
   "cell_type": "code",
   "execution_count": 19,
   "metadata": {},
   "outputs": [
    {
     "data": {
      "text/plain": [
       "↪ 17统计一班  陈帅 : (Picture)"
      ]
     },
     "execution_count": 19,
     "metadata": {},
     "output_type": "execute_result"
    }
   ],
   "source": [
    "my_friend.send_image('baobao.jpg')"
   ]
  },
  {
   "cell_type": "code",
   "execution_count": 17,
   "metadata": {},
   "outputs": [
    {
     "name": "stdout",
     "output_type": "stream",
     "text": [
      "漫宇哥哥～ : 哈哈哈 (Text)\n"
     ]
    }
   ],
   "source": [
    "@bot.register()\n",
    "def print_others(msg):\n",
    "    print(msg)"
   ]
  },
  {
   "cell_type": "code",
   "execution_count": 18,
   "metadata": {},
   "outputs": [],
   "source": [
    "@bot.register()\n",
    "def print_others(msg):\n",
    "    return '我现在在忙，稍后给您回复:{}({})'.format(msg.text,mag.type)"
   ]
  },
  {
   "cell_type": "code",
   "execution_count": null,
   "metadata": {},
   "outputs": [
    {
     "name": "stdout",
     "output_type": "stream",
     "text": [
      "█\r"
     ]
    },
    {
     "name": "stderr",
     "output_type": "stream",
     "text": [
      "Getting uuid of QR code.\n",
      "Downloading QR code.\n",
      "Please scan the QR code to log in.\n",
      "Log in time out, reloading QR code.\n",
      "Getting uuid of QR code.\n",
      "Downloading QR code.\n",
      "Please scan the QR code to log in.\n",
      "Log in time out, reloading QR code.\n",
      "Getting uuid of QR code.\n",
      "Downloading QR code.\n",
      "Please scan the QR code to log in.\n",
      "Log in time out, reloading QR code.\n",
      "Getting uuid of QR code.\n",
      "Downloading QR code.\n",
      "Please scan the QR code to log in.\n",
      "Log in time out, reloading QR code.\n",
      "Getting uuid of QR code.\n",
      "Downloading QR code.\n",
      "Please scan the QR code to log in.\n",
      "Log in time out, reloading QR code.\n",
      "Getting uuid of QR code.\n",
      "Downloading QR code.\n",
      "Please scan the QR code to log in.\n",
      "Log in time out, reloading QR code.\n",
      "Getting uuid of QR code.\n",
      "Downloading QR code.\n",
      "Please scan the QR code to log in.\n",
      "Log in time out, reloading QR code.\n",
      "Getting uuid of QR code.\n",
      "Downloading QR code.\n",
      "Please scan the QR code to log in.\n"
     ]
    }
   ],
   "source": [
    "from wxpy import *\n",
    "bot =Bot()\n",
    "my_friend = bot.friends()\n",
    "print(my_friend)\n",
    "my_friend = bot.friends().search('帅')[0]\n",
    "my_friend.send('Hello Wechat!')\n",
    "my_friend.send_image('baobao.jpg')\n",
    "@bot.register()\n",
    "def print_others(msg):\n",
    "    print(msg)\n",
    "@bot.register()\n",
    "def print_others(msg):\n",
    "    return '我现在在忙，稍后给您回复:{}({})'.format(msg.text,mag.type)"
   ]
  },
  {
   "cell_type": "code",
   "execution_count": null,
   "metadata": {},
   "outputs": [],
   "source": [
    "#4.计算未来投资值\n",
    "def future_value(present_value,annual_rate,  periods_per_year,  years):\n",
    "    \n",
    "    for i in range(1,years+1):\n",
    "        rate_per_period = annual_rate / periods_per_year\n",
    "        periods = periods_per_year * i\n",
    "        print('%d   %.2f'% (i,present_value*((1+rate_per_period)**periods))) \n",
    "present_value=int(input('本金是：'))\n",
    "annual_rate=float(input('年利率是：'))\n",
    "periods_per_year=int(input('每年的计息周期数是：'))\n",
    "years=int(input('存款年限：'))\n",
    "future_value(present_value,annual_rate,  periods_per_year,  years)"
   ]
  },
  {
   "cell_type": "code",
   "execution_count": null,
   "metadata": {},
   "outputs": [],
   "source": [
    "#5.显示字符\n",
    "def printchars(ch1,ch2,n):\n",
    "    count=0\n",
    "    for i in range(ord(ch1),ord(ch2)+1):\n",
    "        print(chr(i),end=\" \")\n",
    "        count += 1\n",
    "        if count % n == 0:\n",
    "            print()\n",
    "ch1=input('请输入第一字符：')\n",
    "ch2=input('请输入第二字符：')\n",
    "n=int(input('请输入每行打印的个数：'))\n",
    "printchars(ch1,ch2,n)\n"
   ]
  },
  {
   "cell_type": "code",
   "execution_count": null,
   "metadata": {},
   "outputs": [],
   "source": [
    "#6 一年的天数\n",
    "def numberOfDayInYear():\n",
    "    c=31+28+31+30+31+30+31+31+30+31+30+31\n",
    "    for year in range(2010,2021,1): \n",
    "        i=year\n",
    "        if year % 4 == 0 and  year % 100 != 0 or year % 400 == 0:\n",
    "            print('%d年有%d天'%(i,c+1)) \n",
    "        else:\n",
    "            print ('%d年有%d天'%(i,c))  \n",
    "numberOfDayInYear()"
   ]
  },
  {
   "cell_type": "code",
   "execution_count": null,
   "metadata": {},
   "outputs": [],
   "source": [
    "# 8 梅森素数\n",
    "import math\n",
    "def prime():\n",
    "    num=[]\n",
    "    i=2\n",
    "    for i in range(2,32):\n",
    "        j=2\n",
    "        for j in range(2,i):\n",
    "            if(i%j==0):\n",
    "                break\n",
    "        else:\n",
    "            num.append(i)\n",
    "    return num\n",
    "def misen():\n",
    "    print('p        2^p-1')\n",
    "    a=prime()\n",
    "    for p in range(1,32):\n",
    "        for i in range(11):\n",
    "            if (2**p)-1==a[i]:\n",
    "                print(\"%d         %d\" %(p,a[i]))\n",
    "misen()"
   ]
  },
  {
   "cell_type": "code",
   "execution_count": null,
   "metadata": {},
   "outputs": [],
   "source": [
    "\n",
    "        "
   ]
  }
 ],
 "metadata": {
  "kernelspec": {
   "display_name": "Python 3",
   "language": "python",
   "name": "python3"
  },
  "language_info": {
   "codemirror_mode": {
    "name": "ipython",
    "version": 3
   },
   "file_extension": ".py",
   "mimetype": "text/x-python",
   "name": "python",
   "nbconvert_exporter": "python",
   "pygments_lexer": "ipython3",
   "version": "3.6.4"
  }
 },
 "nbformat": 4,
 "nbformat_minor": 2
}
